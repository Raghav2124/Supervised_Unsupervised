{
 "cells": [
  {
   "cell_type": "code",
   "execution_count": 1,
   "id": "2a405088",
   "metadata": {},
   "outputs": [],
   "source": [
    "import numpy as np \n",
    "import matplotlib.pyplot as plt"
   ]
  },
  {
   "cell_type": "code",
   "execution_count": 2,
   "id": "c2b55ed0",
   "metadata": {},
   "outputs": [],
   "source": [
    "np.random.seed(42)\n",
    "x=np.random.rand(100,1)-0.5#This line generates an array x with a shape of (100, 1) using NumPy's rand() function. The rand() function generates random numbers from a uniform distribution over the interval [0, 1). By subtracting 0.5 from each randomly generated number, we shift the distribution so that it ranges from -0.5 to 0.5.100: Specifies the number of rows in the array.1: Specifies the number of columns in the array.\n",
    "y=3*x[:,0]**2+0.05*np.random.randn(100)"
   ]
  },
  {
   "cell_type": "code",
   "execution_count": 7,
   "id": "a229a477",
   "metadata": {},
   "outputs": [
    {
     "data": {
      "text/plain": [
       "array([[-0.12545988],\n",
       "       [ 0.45071431],\n",
       "       [ 0.23199394],\n",
       "       [ 0.09865848],\n",
       "       [-0.34398136],\n",
       "       [-0.34400548],\n",
       "       [-0.44191639],\n",
       "       [ 0.36617615],\n",
       "       [ 0.10111501],\n",
       "       [ 0.20807258],\n",
       "       [-0.47941551],\n",
       "       [ 0.46990985],\n",
       "       [ 0.33244264],\n",
       "       [-0.28766089],\n",
       "       [-0.31817503],\n",
       "       [-0.31659549],\n",
       "       [-0.19575776],\n",
       "       [ 0.02475643],\n",
       "       [-0.06805498],\n",
       "       [-0.20877086],\n",
       "       [ 0.11185289],\n",
       "       [-0.36050614],\n",
       "       [-0.20785535],\n",
       "       [-0.13363816],\n",
       "       [-0.04393002],\n",
       "       [ 0.28517596],\n",
       "       [-0.30032622],\n",
       "       [ 0.01423444],\n",
       "       [ 0.09241457],\n",
       "       [-0.45354959],\n",
       "       [ 0.10754485],\n",
       "       [-0.32947588],\n",
       "       [-0.43494841],\n",
       "       [ 0.44888554],\n",
       "       [ 0.46563203],\n",
       "       [ 0.30839735],\n",
       "       [-0.19538623],\n",
       "       [-0.40232789],\n",
       "       [ 0.18423303],\n",
       "       [-0.05984751],\n",
       "       [-0.37796177],\n",
       "       [-0.00482309],\n",
       "       [-0.46561148],\n",
       "       [ 0.4093204 ],\n",
       "       [-0.24122002],\n",
       "       [ 0.16252228],\n",
       "       [-0.18828892],\n",
       "       [ 0.02006802],\n",
       "       [ 0.04671028],\n",
       "       [-0.31514554],\n",
       "       [ 0.46958463],\n",
       "       [ 0.27513282],\n",
       "       [ 0.43949894],\n",
       "       [ 0.39482735],\n",
       "       [ 0.09789998],\n",
       "       [ 0.42187424],\n",
       "       [-0.4115075 ],\n",
       "       [-0.30401714],\n",
       "       [-0.45477271],\n",
       "       [-0.17466967],\n",
       "       [-0.11132271],\n",
       "       [-0.22865097],\n",
       "       [ 0.32873751],\n",
       "       [-0.14324667],\n",
       "       [-0.21906549],\n",
       "       [ 0.04269608],\n",
       "       [-0.35907578],\n",
       "       [ 0.30219698],\n",
       "       [-0.42544936],\n",
       "       [ 0.48688694],\n",
       "       [ 0.27224477],\n",
       "       [-0.30128432],\n",
       "       [-0.49447788],\n",
       "       [ 0.31546143],\n",
       "       [ 0.20685734],\n",
       "       [ 0.22900717],\n",
       "       [ 0.27127035],\n",
       "       [-0.42595535],\n",
       "       [-0.14153427],\n",
       "       [-0.38413094],\n",
       "       [ 0.36310343],\n",
       "       [ 0.12329813],\n",
       "       [-0.16910198],\n",
       "       [-0.43644165],\n",
       "       [-0.18901768],\n",
       "       [-0.17481668],\n",
       "       [ 0.22960618],\n",
       "       [ 0.13755747],\n",
       "       [ 0.38721274],\n",
       "       [-0.02778507],\n",
       "       [-0.38040575],\n",
       "       [ 0.21324479],\n",
       "       [ 0.26078505],\n",
       "       [ 0.0612772 ],\n",
       "       [ 0.27096718],\n",
       "       [-0.0062044 ],\n",
       "       [ 0.02273283],\n",
       "       [-0.07245898],\n",
       "       [-0.47458087],\n",
       "       [-0.39210857]])"
      ]
     },
     "execution_count": 7,
     "metadata": {},
     "output_type": "execute_result"
    }
   ],
   "source": [
    "x"
   ]
  },
  {
   "cell_type": "code",
   "execution_count": 3,
   "id": "dc0c85b6",
   "metadata": {},
   "outputs": [
    {
     "data": {
      "text/plain": [
       "array([ 5.15728987e-02,  5.94479790e-01,  1.66051606e-01, -7.01779562e-02,\n",
       "        3.43985933e-01,  3.72874939e-01,  6.59764984e-01,  3.76341398e-01,\n",
       "       -9.75194335e-03,  1.04794741e-01,  7.35287787e-01,  6.78883363e-01,\n",
       "        3.05066318e-01,  2.73909733e-01,  3.08559932e-01,  3.49130363e-01,\n",
       "        7.98606436e-02, -1.45444646e-02, -5.71096619e-03,  5.75800683e-02,\n",
       "        5.23392240e-02,  4.02946793e-01,  1.29867214e-01,  4.18481141e-02,\n",
       "       -6.49789982e-02,  2.22943721e-01,  2.53451786e-01, -3.95060058e-02,\n",
       "        1.75570720e-02,  6.37324227e-01,  1.29006981e-01,  3.34391950e-01,\n",
       "        5.80417870e-01,  6.00772381e-01,  5.54501010e-01,  2.84001079e-01,\n",
       "        1.17538848e-01,  6.08765289e-01,  9.22073759e-02,  2.58225391e-02,\n",
       "        4.26829699e-01, -5.83641153e-02,  7.07523289e-01,  5.40226226e-01,\n",
       "        2.14112889e-01,  3.37711060e-02,  1.76497872e-01, -6.88843767e-02,\n",
       "        3.58884053e-02,  4.07472924e-01,  6.12002352e-01,  1.98779325e-01,\n",
       "        5.84460527e-01,  4.42492127e-01, -4.87799540e-02,  5.37361759e-01,\n",
       "        4.54900077e-01,  3.00958881e-01,  5.74483445e-01,  1.69025200e-01,\n",
       "       -1.98442712e-03,  1.40740720e-01,  3.64880911e-01,  1.56124184e-05,\n",
       "        1.55342064e-01,  7.08260043e-02,  3.06432075e-01,  2.83200738e-01,\n",
       "        5.56015604e-01,  7.50267811e-01,  1.60504108e-01,  2.06293891e-01,\n",
       "        7.59622208e-01,  3.13396972e-01,  1.40894525e-01,  1.74655260e-01,\n",
       "        1.86761567e-01,  5.55926561e-01,  7.47494737e-02,  4.06952167e-01,\n",
       "        4.88821019e-01,  6.92989303e-02,  2.62212591e-02,  6.04271621e-01,\n",
       "        5.84489646e-02,  1.31036843e-01,  2.16086770e-01,  1.57320579e-02,\n",
       "        4.97969931e-01,  2.29550775e-02,  4.75228621e-01,  2.31259667e-01,\n",
       "        1.91757119e-01, -2.64221234e-02,  1.75793916e-01, -4.06750304e-02,\n",
       "       -2.30474088e-03,  3.28085108e-02,  6.89515556e-01,  5.02606562e-01])"
      ]
     },
     "execution_count": 3,
     "metadata": {},
     "output_type": "execute_result"
    }
   ],
   "source": [
    "y"
   ]
  },
  {
   "cell_type": "code",
   "execution_count": 4,
   "id": "8aac9ec3",
   "metadata": {},
   "outputs": [
    {
     "name": "stderr",
     "output_type": "stream",
     "text": [
      "C:\\Users\\raghav.aggarwal\\AppData\\Local\\anaconda3\\Lib\\site-packages\\pandas\\core\\arrays\\masked.py:60: UserWarning: Pandas requires version '1.3.6' or newer of 'bottleneck' (version '1.3.5' currently installed).\n",
      "  from pandas.core import (\n"
     ]
    }
   ],
   "source": [
    "import pandas as pd \n",
    "data=pd.DataFrame()"
   ]
  },
  {
   "cell_type": "code",
   "execution_count": 5,
   "id": "f9a0a395",
   "metadata": {},
   "outputs": [],
   "source": [
    "data[\"x\"]=x.reshape(100)\n",
    "data[\"y\"]=y"
   ]
  },
  {
   "cell_type": "code",
   "execution_count": 6,
   "id": "cd5190ac",
   "metadata": {},
   "outputs": [
    {
     "data": {
      "text/html": [
       "<div>\n",
       "<style scoped>\n",
       "    .dataframe tbody tr th:only-of-type {\n",
       "        vertical-align: middle;\n",
       "    }\n",
       "\n",
       "    .dataframe tbody tr th {\n",
       "        vertical-align: top;\n",
       "    }\n",
       "\n",
       "    .dataframe thead th {\n",
       "        text-align: right;\n",
       "    }\n",
       "</style>\n",
       "<table border=\"1\" class=\"dataframe\">\n",
       "  <thead>\n",
       "    <tr style=\"text-align: right;\">\n",
       "      <th></th>\n",
       "      <th>x</th>\n",
       "      <th>y</th>\n",
       "    </tr>\n",
       "  </thead>\n",
       "  <tbody>\n",
       "    <tr>\n",
       "      <th>0</th>\n",
       "      <td>-0.125460</td>\n",
       "      <td>0.051573</td>\n",
       "    </tr>\n",
       "    <tr>\n",
       "      <th>1</th>\n",
       "      <td>0.450714</td>\n",
       "      <td>0.594480</td>\n",
       "    </tr>\n",
       "    <tr>\n",
       "      <th>2</th>\n",
       "      <td>0.231994</td>\n",
       "      <td>0.166052</td>\n",
       "    </tr>\n",
       "    <tr>\n",
       "      <th>3</th>\n",
       "      <td>0.098658</td>\n",
       "      <td>-0.070178</td>\n",
       "    </tr>\n",
       "    <tr>\n",
       "      <th>4</th>\n",
       "      <td>-0.343981</td>\n",
       "      <td>0.343986</td>\n",
       "    </tr>\n",
       "    <tr>\n",
       "      <th>...</th>\n",
       "      <td>...</td>\n",
       "      <td>...</td>\n",
       "    </tr>\n",
       "    <tr>\n",
       "      <th>95</th>\n",
       "      <td>-0.006204</td>\n",
       "      <td>-0.040675</td>\n",
       "    </tr>\n",
       "    <tr>\n",
       "      <th>96</th>\n",
       "      <td>0.022733</td>\n",
       "      <td>-0.002305</td>\n",
       "    </tr>\n",
       "    <tr>\n",
       "      <th>97</th>\n",
       "      <td>-0.072459</td>\n",
       "      <td>0.032809</td>\n",
       "    </tr>\n",
       "    <tr>\n",
       "      <th>98</th>\n",
       "      <td>-0.474581</td>\n",
       "      <td>0.689516</td>\n",
       "    </tr>\n",
       "    <tr>\n",
       "      <th>99</th>\n",
       "      <td>-0.392109</td>\n",
       "      <td>0.502607</td>\n",
       "    </tr>\n",
       "  </tbody>\n",
       "</table>\n",
       "<p>100 rows × 2 columns</p>\n",
       "</div>"
      ],
      "text/plain": [
       "           x         y\n",
       "0  -0.125460  0.051573\n",
       "1   0.450714  0.594480\n",
       "2   0.231994  0.166052\n",
       "3   0.098658 -0.070178\n",
       "4  -0.343981  0.343986\n",
       "..       ...       ...\n",
       "95 -0.006204 -0.040675\n",
       "96  0.022733 -0.002305\n",
       "97 -0.072459  0.032809\n",
       "98 -0.474581  0.689516\n",
       "99 -0.392109  0.502607\n",
       "\n",
       "[100 rows x 2 columns]"
      ]
     },
     "execution_count": 6,
     "metadata": {},
     "output_type": "execute_result"
    }
   ],
   "source": [
    "data"
   ]
  },
  {
   "cell_type": "code",
   "execution_count": 9,
   "id": "a0b0cf22",
   "metadata": {},
   "outputs": [
    {
     "data": {
      "text/plain": [
       "Text(0.5, 1.0, 'X vs Y')"
      ]
     },
     "execution_count": 9,
     "metadata": {},
     "output_type": "execute_result"
    },
    {
     "data": {
      "image/png": "[encoded data removed]",
      "text/plain": [
       "<Figure size 640x480 with 1 Axes>"
      ]
     },
     "metadata": {},
     "output_type": "display_data"
    }
   ],
   "source": [
    "plt.scatter(data[\"x\"],data[\"y\"])\n",
    "plt.title(\"X vs Y\")"
   ]
  },
  {
   "cell_type": "code",
   "execution_count": 10,
   "id": "acfd189c",
   "metadata": {},
   "outputs": [],
   "source": [
    "data['pred1']=data[\"y\"].mean()"
   ]
  },
  {
   "cell_type": "code",
   "execution_count": 11,
   "id": "55690ff2",
   "metadata": {},
   "outputs": [],
   "source": [
    "data[\"res1\"]=data[\"y\"]-data[\"pred1\"]"
   ]
  },
  {
   "cell_type": "code",
   "execution_count": 12,
   "id": "37aa4c78",
   "metadata": {},
   "outputs": [],
   "source": [
    "from sklearn.tree import DecisionTreeRegressor"
   ]
  },
  {
   "cell_type": "code",
   "execution_count": null,
   "id": "8a2927d4",
   "metadata": {},
   "outputs": [],
   "source": []
  }
 ],
 "metadata": {
  "kernelspec": {
   "display_name": "Python 3 (ipykernel)",
   "language": "python",
   "name": "python3"
  },
  "language_info": {
   "codemirror_mode": {
    "name": "ipython",
    "version": 3
   },
   "file_extension": ".py",
   "mimetype": "text/x-python",
   "name": "python",
   "nbconvert_exporter": "python",
   "pygments_lexer": "ipython3",
   "version": "3.11.5"
  }
 },
 "nbformat": 4,
 "nbformat_minor": 5
}
