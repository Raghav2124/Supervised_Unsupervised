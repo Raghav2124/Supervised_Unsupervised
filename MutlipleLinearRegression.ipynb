{
 "cells": [
  {
   "cell_type": "code",
   "execution_count": 28,
   "id": "d0227782",
   "metadata": {},
   "outputs": [],
   "source": [
    "import pandas as pd \n",
    "import numpy as np\n",
    "import matplotlib.pyplot as plt \n",
    "from sklearn.datasets import make_regression\n",
    "from sklearn.metrics import mean_absolute_error,mean_squared_error,r2_score"
   ]
  },
  {
   "cell_type": "code",
   "execution_count": 4,
   "id": "7f156add",
   "metadata": {},
   "outputs": [],
   "source": [
    "data=pd.read_csv(\"50_Startups.csv\")"
   ]
  },
  {
   "cell_type": "code",
   "execution_count": 37,
   "id": "899ec2c0",
   "metadata": {},
   "outputs": [],
   "source": [
    "x=data.iloc[:,:-1]\n",
    "y=data.iloc[:,-1]"
   ]
  },
  {
   "cell_type": "code",
   "execution_count": 38,
   "id": "ef52826e",
   "metadata": {},
   "outputs": [],
   "source": [
    "from sklearn.preprocessing import OneHotEncoder\n",
    "from sklearn.compose import ColumnTransformer\n",
    "c=ColumnTransformer(transformers=[('encoder',OneHotEncoder(),[3])],remainder='passthrough')\n",
    "x=np.array(c.fit_transform(x))"
   ]
  },
  {
   "cell_type": "code",
   "execution_count": 39,
   "id": "33bd5c87",
   "metadata": {},
   "outputs": [
    {
     "data": {
      "text/plain": [
       "array([[0.00e+00, 0.00e+00, 1.00e+00, 1.65e+05, 1.37e+05, 4.72e+05],\n",
       "       [1.00e+00, 0.00e+00, 0.00e+00, 1.63e+05, 1.51e+05, 4.44e+05],\n",
       "       [0.00e+00, 1.00e+00, 0.00e+00, 1.53e+05, 1.01e+05, 4.08e+05],\n",
       "       [0.00e+00, 0.00e+00, 1.00e+00, 1.44e+05, 1.19e+05, 3.83e+05],\n",
       "       [0.00e+00, 1.00e+00, 0.00e+00, 1.42e+05, 9.14e+04, 3.66e+05],\n",
       "       [0.00e+00, 0.00e+00, 1.00e+00, 1.32e+05, 9.98e+04, 3.63e+05],\n",
       "       [1.00e+00, 0.00e+00, 0.00e+00, 1.35e+05, 1.47e+05, 1.28e+05],\n",
       "       [0.00e+00, 1.00e+00, 0.00e+00, 1.30e+05, 1.46e+05, 3.24e+05],\n",
       "       [0.00e+00, 0.00e+00, 1.00e+00, 1.21e+05, 1.49e+05, 3.12e+05],\n",
       "       [1.00e+00, 0.00e+00, 0.00e+00, 1.23e+05, 1.09e+05, 3.05e+05],\n",
       "       [0.00e+00, 1.00e+00, 0.00e+00, 1.02e+05, 1.11e+05, 2.29e+05],\n",
       "       [1.00e+00, 0.00e+00, 0.00e+00, 1.01e+05, 9.18e+04, 2.50e+05],\n",
       "       [0.00e+00, 1.00e+00, 0.00e+00, 9.39e+04, 1.27e+05, 2.50e+05],\n",
       "       [1.00e+00, 0.00e+00, 0.00e+00, 9.20e+04, 1.35e+05, 2.53e+05],\n",
       "       [0.00e+00, 1.00e+00, 0.00e+00, 1.20e+05, 1.57e+05, 2.57e+05],\n",
       "       [0.00e+00, 0.00e+00, 1.00e+00, 1.15e+05, 1.23e+05, 2.62e+05],\n",
       "       [1.00e+00, 0.00e+00, 0.00e+00, 7.80e+04, 1.22e+05, 2.64e+05],\n",
       "       [0.00e+00, 0.00e+00, 1.00e+00, 9.47e+04, 1.45e+05, 2.83e+05],\n",
       "       [0.00e+00, 1.00e+00, 0.00e+00, 9.17e+04, 1.14e+05, 2.95e+05],\n",
       "       [0.00e+00, 0.00e+00, 1.00e+00, 8.64e+04, 1.54e+05, 0.00e+00],\n",
       "       [1.00e+00, 0.00e+00, 0.00e+00, 7.63e+04, 1.14e+05, 2.99e+05],\n",
       "       [0.00e+00, 0.00e+00, 1.00e+00, 7.84e+04, 1.54e+05, 3.00e+05],\n",
       "       [0.00e+00, 1.00e+00, 0.00e+00, 7.40e+04, 1.23e+05, 3.03e+05],\n",
       "       [0.00e+00, 1.00e+00, 0.00e+00, 6.75e+04, 1.06e+05, 3.05e+05],\n",
       "       [0.00e+00, 0.00e+00, 1.00e+00, 7.70e+04, 9.93e+04, 1.41e+05],\n",
       "       [1.00e+00, 0.00e+00, 0.00e+00, 6.47e+04, 1.40e+05, 1.38e+05],\n",
       "       [0.00e+00, 1.00e+00, 0.00e+00, 7.53e+04, 1.44e+05, 1.34e+05],\n",
       "       [0.00e+00, 0.00e+00, 1.00e+00, 7.21e+04, 1.28e+05, 3.53e+05],\n",
       "       [0.00e+00, 1.00e+00, 0.00e+00, 6.61e+04, 1.83e+05, 1.18e+05],\n",
       "       [0.00e+00, 0.00e+00, 1.00e+00, 6.56e+04, 1.53e+05, 1.07e+05],\n",
       "       [0.00e+00, 1.00e+00, 0.00e+00, 6.20e+04, 1.16e+05, 9.11e+04],\n",
       "       [0.00e+00, 0.00e+00, 1.00e+00, 6.11e+04, 1.53e+05, 8.82e+04],\n",
       "       [1.00e+00, 0.00e+00, 0.00e+00, 6.34e+04, 1.29e+05, 4.61e+04],\n",
       "       [0.00e+00, 1.00e+00, 0.00e+00, 5.55e+04, 1.03e+05, 2.15e+05],\n",
       "       [1.00e+00, 0.00e+00, 0.00e+00, 4.64e+04, 1.58e+05, 2.11e+05],\n",
       "       [0.00e+00, 0.00e+00, 1.00e+00, 4.60e+04, 8.50e+04, 2.06e+05],\n",
       "       [0.00e+00, 1.00e+00, 0.00e+00, 2.87e+04, 1.27e+05, 2.01e+05],\n",
       "       [1.00e+00, 0.00e+00, 0.00e+00, 4.41e+04, 5.13e+04, 1.97e+05],\n",
       "       [0.00e+00, 0.00e+00, 1.00e+00, 2.02e+04, 6.59e+04, 1.85e+05],\n",
       "       [1.00e+00, 0.00e+00, 0.00e+00, 3.86e+04, 8.30e+04, 1.75e+05],\n",
       "       [1.00e+00, 0.00e+00, 0.00e+00, 2.88e+04, 1.19e+05, 1.73e+05],\n",
       "       [0.00e+00, 1.00e+00, 0.00e+00, 2.79e+04, 8.47e+04, 1.64e+05],\n",
       "       [1.00e+00, 0.00e+00, 0.00e+00, 2.36e+04, 9.62e+04, 1.48e+05],\n",
       "       [0.00e+00, 0.00e+00, 1.00e+00, 1.55e+04, 1.27e+05, 3.55e+04],\n",
       "       [1.00e+00, 0.00e+00, 0.00e+00, 2.22e+04, 1.55e+05, 2.83e+04],\n",
       "       [0.00e+00, 0.00e+00, 1.00e+00, 1.00e+03, 1.24e+05, 1.90e+03],\n",
       "       [0.00e+00, 1.00e+00, 0.00e+00, 1.32e+03, 1.16e+05, 2.97e+05],\n",
       "       [1.00e+00, 0.00e+00, 0.00e+00, 0.00e+00, 1.35e+05, 0.00e+00],\n",
       "       [0.00e+00, 0.00e+00, 1.00e+00, 5.42e+02, 5.17e+04, 0.00e+00],\n",
       "       [1.00e+00, 0.00e+00, 0.00e+00, 0.00e+00, 1.17e+05, 4.52e+04]])"
      ]
     },
     "execution_count": 39,
     "metadata": {},
     "output_type": "execute_result"
    }
   ],
   "source": [
    "x"
   ]
  },
  {
   "cell_type": "code",
   "execution_count": 40,
   "id": "0337cbe5",
   "metadata": {},
   "outputs": [],
   "source": [
    "from sklearn.model_selection import train_test_split\n",
    "x_train,x_test,y_train,y_test=train_test_split(x,y,test_size=0.2,random_state=2)"
   ]
  },
  {
   "cell_type": "code",
   "execution_count": 41,
   "id": "e02583d8",
   "metadata": {},
   "outputs": [],
   "source": [
    "from sklearn.linear_model import LinearRegression\n",
    "r=LinearRegression()"
   ]
  },
  {
   "cell_type": "code",
   "execution_count": 42,
   "id": "4674a6be",
   "metadata": {},
   "outputs": [
    {
     "data": {
      "text/html": [
       "<style>#sk-container-id-3 {color: black;}#sk-container-id-3 pre{padding: 0;}#sk-container-id-3 div.sk-toggleable {background-color: white;}#sk-container-id-3 label.sk-toggleable__label {cursor: pointer;display: block;width: 100%;margin-bottom: 0;padding: 0.3em;box-sizing: border-box;text-align: center;}#sk-container-id-3 label.sk-toggleable__label-arrow:before {content: \"▸\";float: left;margin-right: 0.25em;color: #696969;}#sk-container-id-3 label.sk-toggleable__label-arrow:hover:before {color: black;}#sk-container-id-3 div.sk-estimator:hover label.sk-toggleable__label-arrow:before {color: black;}#sk-container-id-3 div.sk-toggleable__content {max-height: 0;max-width: 0;overflow: hidden;text-align: left;background-color: #f0f8ff;}#sk-container-id-3 div.sk-toggleable__content pre {margin: 0.2em;color: black;border-radius: 0.25em;background-color: #f0f8ff;}#sk-container-id-3 input.sk-toggleable__control:checked~div.sk-toggleable__content {max-height: 200px;max-width: 100%;overflow: auto;}#sk-container-id-3 input.sk-toggleable__control:checked~label.sk-toggleable__label-arrow:before {content: \"▾\";}#sk-container-id-3 div.sk-estimator input.sk-toggleable__control:checked~label.sk-toggleable__label {background-color: #d4ebff;}#sk-container-id-3 div.sk-label input.sk-toggleable__control:checked~label.sk-toggleable__label {background-color: #d4ebff;}#sk-container-id-3 input.sk-hidden--visually {border: 0;clip: rect(1px 1px 1px 1px);clip: rect(1px, 1px, 1px, 1px);height: 1px;margin: -1px;overflow: hidden;padding: 0;position: absolute;width: 1px;}#sk-container-id-3 div.sk-estimator {font-family: monospace;background-color: #f0f8ff;border: 1px dotted black;border-radius: 0.25em;box-sizing: border-box;margin-bottom: 0.5em;}#sk-container-id-3 div.sk-estimator:hover {background-color: #d4ebff;}#sk-container-id-3 div.sk-parallel-item::after {content: \"\";width: 100%;border-bottom: 1px solid gray;flex-grow: 1;}#sk-container-id-3 div.sk-label:hover label.sk-toggleable__label {background-color: #d4ebff;}#sk-container-id-3 div.sk-serial::before {content: \"\";position: absolute;border-left: 1px solid gray;box-sizing: border-box;top: 0;bottom: 0;left: 50%;z-index: 0;}#sk-container-id-3 div.sk-serial {display: flex;flex-direction: column;align-items: center;background-color: white;padding-right: 0.2em;padding-left: 0.2em;position: relative;}#sk-container-id-3 div.sk-item {position: relative;z-index: 1;}#sk-container-id-3 div.sk-parallel {display: flex;align-items: stretch;justify-content: center;background-color: white;position: relative;}#sk-container-id-3 div.sk-item::before, #sk-container-id-3 div.sk-parallel-item::before {content: \"\";position: absolute;border-left: 1px solid gray;box-sizing: border-box;top: 0;bottom: 0;left: 50%;z-index: -1;}#sk-container-id-3 div.sk-parallel-item {display: flex;flex-direction: column;z-index: 1;position: relative;background-color: white;}#sk-container-id-3 div.sk-parallel-item:first-child::after {align-self: flex-end;width: 50%;}#sk-container-id-3 div.sk-parallel-item:last-child::after {align-self: flex-start;width: 50%;}#sk-container-id-3 div.sk-parallel-item:only-child::after {width: 0;}#sk-container-id-3 div.sk-dashed-wrapped {border: 1px dashed gray;margin: 0 0.4em 0.5em 0.4em;box-sizing: border-box;padding-bottom: 0.4em;background-color: white;}#sk-container-id-3 div.sk-label label {font-family: monospace;font-weight: bold;display: inline-block;line-height: 1.2em;}#sk-container-id-3 div.sk-label-container {text-align: center;}#sk-container-id-3 div.sk-container {/* jupyter's `normalize.less` sets `[hidden] { display: none; }` but bootstrap.min.css set `[hidden] { display: none !important; }` so we also need the `!important` here to be able to override the default hidden behavior on the sphinx rendered scikit-learn.org. See: https://github.com/scikit-learn/scikit-learn/issues/21755 */display: inline-block !important;position: relative;}#sk-container-id-3 div.sk-text-repr-fallback {display: none;}</style><div id=\"sk-container-id-3\" class=\"sk-top-container\"><div class=\"sk-text-repr-fallback\"><pre>LinearRegression()</pre><b>In a Jupyter environment, please rerun this cell to show the HTML representation or trust the notebook. <br />On GitHub, the HTML representation is unable to render, please try loading this page with nbviewer.org.</b></div><div class=\"sk-container\" hidden><div class=\"sk-item\"><div class=\"sk-estimator sk-toggleable\"><input class=\"sk-toggleable__control sk-hidden--visually\" id=\"sk-estimator-id-3\" type=\"checkbox\" checked><label for=\"sk-estimator-id-3\" class=\"sk-toggleable__label sk-toggleable__label-arrow\">LinearRegression</label><div class=\"sk-toggleable__content\"><pre>LinearRegression()</pre></div></div></div></div></div>"
      ],
      "text/plain": [
       "LinearRegression()"
      ]
     },
     "execution_count": 42,
     "metadata": {},
     "output_type": "execute_result"
    }
   ],
   "source": [
    "r.fit(x_train,y_train)"
   ]
  },
  {
   "cell_type": "code",
   "execution_count": 43,
   "id": "61eff091",
   "metadata": {},
   "outputs": [],
   "source": [
    "y_pred=r.predict(x_test)"
   ]
  },
  {
   "cell_type": "code",
   "execution_count": 44,
   "id": "e103944d",
   "metadata": {},
   "outputs": [],
   "source": [
    "np.set_printoptions(precision=2)"
   ]
  },
  {
   "cell_type": "code",
   "execution_count": 46,
   "id": "f00f36e5",
   "metadata": {},
   "outputs": [
    {
     "name": "stdout",
     "output_type": "stream",
     "text": [
      "[ 74061.28  46009.24  99637.26 155786.53 127636.76 192765.19  63907.\n",
      "  54935.14  84532.35 109460.3 ]\n",
      "36     90708.19\n",
      "47     42559.73\n",
      "28    103282.38\n",
      "9     149759.96\n",
      "13    134307.35\n",
      "0     192261.83\n",
      "44     65200.33\n",
      "46     49490.75\n",
      "39     81005.76\n",
      "23    108733.99\n",
      "Name: Profit, dtype: float64\n"
     ]
    }
   ],
   "source": [
    "print(y_pred)\n",
    "print(y_test)"
   ]
  },
  {
   "cell_type": "code",
   "execution_count": 29,
   "id": "1b430a3d",
   "metadata": {},
   "outputs": [
    {
     "name": "stdout",
     "output_type": "stream",
     "text": [
      "R2  0.9783259006626557\n"
     ]
    }
   ],
   "source": [
    "print(\"R2 \",r2_score(y_test,y_pred))#not in lpa"
   ]
  },
  {
   "cell_type": "code",
   "execution_count": 30,
   "id": "fb562d07",
   "metadata": {},
   "outputs": [],
   "source": [
    "x=data.iloc[:,:-1].values\n",
    "y=data.iloc[:,-1].values"
   ]
  },
  {
   "cell_type": "code",
   "execution_count": null,
   "id": "e4760f74",
   "metadata": {},
   "outputs": [],
   "source": []
  }
 ],
 "metadata": {
  "kernelspec": {
   "display_name": "Python 3 (ipykernel)",
   "language": "python",
   "name": "python3"
  },
  "language_info": {
   "codemirror_mode": {
    "name": "ipython",
    "version": 3
   },
   "file_extension": ".py",
   "mimetype": "text/x-python",
   "name": "python",
   "nbconvert_exporter": "python",
   "pygments_lexer": "ipython3",
   "version": "3.11.5"
  }
 },
 "nbformat": 4,
 "nbformat_minor": 5
}
